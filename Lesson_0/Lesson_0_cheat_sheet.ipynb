{
 "cells": [
  {
   "cell_type": "markdown",
   "metadata": {},
   "source": [
    "# Basics of image processing with python"
   ]
  },
  {
   "cell_type": "markdown",
   "metadata": {},
   "source": [
    "## Lesson 0"
   ]
  },
  {
   "cell_type": "markdown",
   "metadata": {},
   "source": [
    "The instructions in this file are for you, if you have not worked with image processing libraries in python before. If you feel comfortable with OpenCV and ScikitImage and are familiar with the basics, you can skip this file. We will not talk about the content in the course, so please familiarize yourself with the content in advance and feel free to take it out as a cheat sheet at any point."
   ]
  },
  {
   "cell_type": "markdown",
   "metadata": {},
   "source": [
    "### 0.1 Imports"
   ]
  },
  {
   "cell_type": "markdown",
   "metadata": {},
   "source": [
    "We are mostly working with the libraries cv2 (opencv), scikit-image, matplotlib and numpy. To include the libraries in your script, you need to import them first. Please use the following statement for that. The abbreviations used for the packages will be persistent througout the course."
   ]
  },
  {
   "cell_type": "code",
   "execution_count": null,
   "metadata": {},
   "outputs": [],
   "source": [
    "import cv2\n",
    "import matplotlib.pyplot as plt\n",
    "import numpy as np\n",
    "import skimage"
   ]
  },
  {
   "cell_type": "markdown",
   "metadata": {},
   "source": [
    "These libraries contain all the functionality that will be required for all besides of the last lesson. \n",
    "\n",
    "When working with images, it is also helpfull to see e.g. the pixel intensities easily. Therefore, activate the interactive mode of matplotlib by including the following statement in the imports:"
   ]
  },
  {
   "cell_type": "code",
   "execution_count": null,
   "metadata": {},
   "outputs": [],
   "source": [
    "%matplotlib inline"
   ]
  },
  {
   "cell_type": "markdown",
   "metadata": {},
   "source": [
    "### 0.2 Reading in images"
   ]
  },
  {
   "cell_type": "markdown",
   "metadata": {},
   "source": [
    "To read in images, opencv provides a very convenient function. To actually use the statement, please replace \"path/to/image\" with the actual path to the images on your system. To read the images in as color images, use the parameter `cv2.IMREAD_COLOR`, to read the images in as grylevel images (even though they are saved as color images), use the parameter `cv2.IMREAD_GRAYSCALE`. Other options are also available, for more information, please check the documentation."
   ]
  },
  {
   "cell_type": "code",
   "execution_count": null,
   "metadata": {},
   "outputs": [],
   "source": [
    "myImg_color = cv2.imread(\"path/to/image\", cv2.IMREAD_COLOR)\n",
    "myImg_grayscale = cv2.imread(\"path/to/image\", cv2.IMREAD_GRAYSCALE)"
   ]
  },
  {
   "cell_type": "markdown",
   "metadata": {},
   "source": [
    "Please be aware that cv2 reads in images in the order Blue-Green-Red channel (other than other applications, that use Red-Green-Blue)!"
   ]
  },
  {
   "cell_type": "markdown",
   "metadata": {},
   "source": [
    "### 0.3 Cropping images"
   ]
  },
  {
   "cell_type": "markdown",
   "metadata": {},
   "source": [
    "In many cases, only a part of the image is interesting for evaluation. To crop the image, first determine the vertical and horizontal coordinate range that you would like to keep (The coordinate system origin is located in the upper right corner). Let's assume you would like to crop `myImg_color` and keep the vertical range from pixel 200 to 500, and the horizontal range from 1000 to 1500. In this case, the following command gives you your output image. The last parameter specifies that the channels should remain as they are."
   ]
  },
  {
   "cell_type": "code",
   "execution_count": null,
   "metadata": {},
   "outputs": [],
   "source": [
    "myImg_cropped = myImg_color[200:500, 1000:15000, :]"
   ]
  },
  {
   "cell_type": "markdown",
   "metadata": {},
   "source": [
    "### 0.4 Scaling images"
   ]
  },
  {
   "cell_type": "markdown",
   "metadata": {},
   "source": [
    "In many cases, processing the images with their full resolution takes up too much computation power and/or memory resources. If the full resolution is not required for the processing, you can scale down the image and thus compress the size. Let's assume you would like to scale the `myImage_cropped` down to 1/4 of its vertical and 1/4 of its horizontal extension, thus reducing the size to 1/16 of the original size. To do so, first determine the current dimensions of the image:"
   ]
  },
  {
   "cell_type": "code",
   "execution_count": null,
   "metadata": {},
   "outputs": [],
   "source": [
    "height, width, channels = myImg_cropped.shape"
   ]
  },
  {
   "cell_type": "markdown",
   "metadata": {},
   "source": [
    "In the next step, you can use `cv2.resize` to obtain the resulting image with the new dimensions. Be aware that the dimensions have to be specified as integers."
   ]
  },
  {
   "cell_type": "code",
   "execution_count": null,
   "metadata": {},
   "outputs": [],
   "source": [
    "myImg_cropped_scaled = cv2.resize(myImg_cropped, (int(width/4), int(height/4)))"
   ]
  },
  {
   "cell_type": "markdown",
   "metadata": {},
   "source": [
    "### 0.5 Displaying images"
   ]
  },
  {
   "cell_type": "markdown",
   "metadata": {},
   "source": [
    "To display the images, you can use the cv2- image viewer by calling the `cv2.imshow` method. This viewer opens a new window to display the image. It requires you to give a name for the window as well as the image you would like to show. Be aware that you need to include `cv2.waitKey(0)` to avoid the kernel from getting stuck. \n",
    "\n",
    "Let us assume you would like to display `myImg_cropped` in a window titled \"MyImageViewer\". This could be realized as follows:"
   ]
  },
  {
   "cell_type": "code",
   "execution_count": null,
   "metadata": {},
   "outputs": [],
   "source": [
    "cv2.imshow(\"MyImageViewer\", myImg_cropped_scaled)\n",
    "cv2.waitKey(0)"
   ]
  },
  {
   "cell_type": "markdown",
   "metadata": {},
   "source": [
    "In many cases, using `matplotlib` instead of the cv2-viewer can be more helpful, especially when the images should be brought in direct context with the code or you would like to use the interactive functionality. For all the possibilities, please chack the matplotlib documentation. \n",
    "\n",
    "If you would like to display the colored image, e.g. `myImg_color`, be aware to reverse the channel order with `::-1`, since cv2-images come in the order BGR, but matplotlib expects RGB."
   ]
  },
  {
   "cell_type": "code",
   "execution_count": null,
   "metadata": {},
   "outputs": [],
   "source": [
    "plt.figure()\n",
    "plt.title(\"Display myImg in color\")\n",
    "plt.imshow(myImg_color[:, :, ::-1])\n",
    "plt.show()"
   ]
  },
  {
   "cell_type": "markdown",
   "metadata": {},
   "source": [
    "For grayscale images, changing the channel order is not required, since only one channel is present anyways. However, you need to specify the appropriate colormap with the `cmap` keyword. For standard grayscale, use the colormap `Greys_r`."
   ]
  },
  {
   "cell_type": "code",
   "execution_count": null,
   "metadata": {},
   "outputs": [],
   "source": [
    "plt.figure()\n",
    "plt.title(\"Display myImg in grayscale\")\n",
    "plt.imshow(myImg_grayscale, cmap = \"Greys_r\")\n",
    "plt.show()"
   ]
  },
  {
   "cell_type": "markdown",
   "metadata": {},
   "source": [
    "### 0.6 Saving images"
   ]
  },
  {
   "cell_type": "markdown",
   "metadata": {},
   "source": [
    "To save an image, you can use `cv2.imwrite` and provide the target path for the image (eplace your desired path in the code) together with the file type you would like to use and the image variable as arguments."
   ]
  },
  {
   "cell_type": "code",
   "execution_count": null,
   "metadata": {},
   "outputs": [],
   "source": [
    "cv2.imwrite(\"target/path/for/saved/image.png\", img_cropped_scaled_bw)"
   ]
  }
 ],
 "metadata": {
  "language_info": {
   "name": "python"
  }
 },
 "nbformat": 4,
 "nbformat_minor": 2
}
