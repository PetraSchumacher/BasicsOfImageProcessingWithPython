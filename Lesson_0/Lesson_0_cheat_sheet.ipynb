{
 "cells": [
  {
   "cell_type": "markdown",
   "metadata": {},
   "source": [
    "# Basics of image processing with python"
   ]
  },
  {
   "cell_type": "markdown",
   "metadata": {},
   "source": [
    "## Lesson 0"
   ]
  },
  {
   "cell_type": "markdown",
   "metadata": {},
   "source": [
    "The instructions in this file are for you, if you have not worked with image processing libraries in python before. If you feel comfortable with OpenCV and ScikitImage and are familiar with the basics, you can skip this file. We will not talk about the content in the course, so please familiarize yourself with the content in advance and feel free to take it out as a cheat sheet at any point."
   ]
  },
  {
   "cell_type": "markdown",
   "metadata": {},
   "source": [
    "### 0.1 Imports"
   ]
  },
  {
   "cell_type": "markdown",
   "metadata": {},
   "source": [
    "We are mostly working with the libraries cv2 (opencv), scikit-image, matplotlib and numpy. To include the libraries in your script, you need to import them first. Please use the following statement for that. The abbreviations used for the packages will be persistent througout the course."
   ]
  },
  {
   "cell_type": "code",
   "execution_count": null,
   "metadata": {},
   "outputs": [],
   "source": [
    "import cv2\n",
    "import matplotlib.pyplot as plt\n",
    "import numpy as np\n",
    "import skimage"
   ]
  },
  {
   "cell_type": "markdown",
   "metadata": {},
   "source": [
    "These libraries contain all the functionality that will be required for all besides of the last lesson. \n",
    "\n",
    "When working with images, it is also helpfull to see e.g. the pixel intensities easily. Therefore, activate the interactive mode of matplotlib by including the following statement in the imports:"
   ]
  },
  {
   "cell_type": "code",
   "execution_count": null,
   "metadata": {},
   "outputs": [],
   "source": [
    "%matplotlib inline"
   ]
  },
  {
   "cell_type": "markdown",
   "metadata": {},
   "source": [
    "### 0.2 Reading in images"
   ]
  },
  {
   "cell_type": "markdown",
   "metadata": {},
   "source": [
    "To read in images, opencv provides a very convenient function. To actually use the statement, please replace \"path/to/image\" with the actual path to the images on your system. To read the images in as color images, use the parameter \"cv2.IMREAD_COLOR\", to read the images in as grylevel images (even though they are saved as color images), use the parameter \"cv2.IMREAD_GRAYSCALE\"."
   ]
  },
  {
   "cell_type": "code",
   "execution_count": null,
   "metadata": {},
   "outputs": [],
   "source": [
    "myImg_color = cv2.imread(\"path/to/image\", cv2.IMREAD_COLOR)\n",
    "myImg_grayscale = cv2.imread(\"path/to/image\", cv2.IMREAD_GRAYSCALE)"
   ]
  },
  {
   "cell_type": "markdown",
   "metadata": {},
   "source": [
    "Please be aware that cv2 reads in images in the order Blue-Green-Red channel (other than other applications, that use Red-Green-Blue)!"
   ]
  },
  {
   "cell_type": "markdown",
   "metadata": {},
   "source": [
    "### 0.3 Cropping images"
   ]
  },
  {
   "cell_type": "markdown",
   "metadata": {},
   "source": []
  }
 ],
 "metadata": {
  "language_info": {
   "name": "python"
  }
 },
 "nbformat": 4,
 "nbformat_minor": 2
}
