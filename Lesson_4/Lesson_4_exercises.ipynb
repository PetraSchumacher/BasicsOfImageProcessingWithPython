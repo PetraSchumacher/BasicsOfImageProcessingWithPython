{
 "cells": [
  {
   "cell_type": "markdown",
   "metadata": {},
   "source": [
    "# Basics of image processing with python"
   ]
  },
  {
   "cell_type": "markdown",
   "metadata": {},
   "source": [
    "## Lesson 4"
   ]
  },
  {
   "cell_type": "markdown",
   "metadata": {},
   "source": [
    "#### Exercise 4.1"
   ]
  },
  {
   "cell_type": "markdown",
   "metadata": {},
   "source": [
    "* Create random noise on images of your choice. Try it on images with relatively homogeneous areas (e.g. from the PumpkinSeeds dataset) and also on very structured ones\n",
    "\n",
    "* Try out the different image filters with the artificially noisy images\n",
    "    * Rectangular filter\n",
    "    * Gaussian filter\n",
    "    * Median Filter\n",
    "    * Bilateral filter\n",
    "\n",
    "* What is your conclusion, which filters work well in which situation?\n",
    "\n",
    "\n"
   ]
  },
  {
   "cell_type": "markdown",
   "metadata": {},
   "source": [
    "#### Exercise 4.2"
   ]
  },
  {
   "cell_type": "markdown",
   "metadata": {},
   "source": [
    "* Use a (greylevel) image of your choice or convert an RGB-image to grey level. The more structured the image, the more interesting!\n",
    "\n",
    "* Apply the Sobel operator and Canny edge detection to the image.\n",
    "\n",
    "* What is your impression on the quality of the operators? Which edges work well or cause problems?\n"
   ]
  },
  {
   "cell_type": "markdown",
   "metadata": {},
   "source": []
  }
 ],
 "metadata": {
  "language_info": {
   "name": "python"
  }
 },
 "nbformat": 4,
 "nbformat_minor": 2
}
