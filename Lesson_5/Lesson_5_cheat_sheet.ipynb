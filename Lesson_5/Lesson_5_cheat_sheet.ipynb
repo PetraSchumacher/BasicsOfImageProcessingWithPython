{
 "cells": [
  {
   "cell_type": "markdown",
   "metadata": {},
   "source": [
    "# Basics of image processing with python"
   ]
  },
  {
   "cell_type": "markdown",
   "metadata": {},
   "source": [
    "## Lesson 5"
   ]
  },
  {
   "cell_type": "markdown",
   "metadata": {},
   "source": [
    "In this lesson, we will investigate simple thresholding algorithms (global and adaptive thresholding) as well as morphological operations."
   ]
  },
  {
   "cell_type": "markdown",
   "metadata": {},
   "source": [
    "### 5.1 Thresholding"
   ]
  },
  {
   "cell_type": "markdown",
   "metadata": {},
   "source": [
    "#### 5.1.1 Global thresholding"
   ]
  },
  {
   "cell_type": "markdown",
   "metadata": {},
   "source": [
    "Let's assume we work with a single channel greyscale image `myImg`. You can of course also use a color image, split it into the RGB- or HSV-channels and work on these channels and treat them like greyscale images. To find the global threshold, i.e. a single threshold applied to the full image, we can use `cv2.threshold` with the following arguments:\n",
    "* `src` : source image to apply the threshold to\n",
    "* `thresh` : The global threshold to apply to the image\n",
    "* `maxval` : The value to assign your pixels to if they fullfill the specified condition if you do binary thresholding, e.g. 255 \n",
    "* `type`: the thresholding type to use. We use `THRESH_BINARY` here, i.e. a pixel is either assigned 0 if it is below the threshold or `maxval` if its intensity is above the threshold. If it should be the other way around, you can use `THRESH_BINARY_INV`. Other possibilities also exist, please check the documentation if you are interested.\n",
    "\n",
    "`cv2.threshold` returns two values, the first one corresponds to the specified threshold, i.e. 10 here, and the second return value is the actaul thresholded image."
   ]
  },
  {
   "cell_type": "code",
   "execution_count": null,
   "metadata": {},
   "outputs": [],
   "source": [
    "threshold, myImg_threshold = cv2.threshold(myImg, 10, 255, cv2.THRESH_BINARY)"
   ]
  },
  {
   "cell_type": "markdown",
   "metadata": {},
   "source": [
    "You can now for example count the number of masked pixels, if you are intersted in the size of the segmented threshold. By replacing 255 with 0, you can also count the amount of pixels that fall below the threshold."
   ]
  },
  {
   "cell_type": "code",
   "execution_count": null,
   "metadata": {},
   "outputs": [],
   "source": [
    "pixelsInMask = len(myImg_threshold[myImg_threshold == 255])"
   ]
  },
  {
   "cell_type": "markdown",
   "metadata": {},
   "source": [
    "#### 5.1.2 Adaptive threshold"
   ]
  },
  {
   "cell_type": "markdown",
   "metadata": {},
   "source": [
    "For adaptive thresholding, you can use the pre-implemented module `cv2.adaptiveThreshold` with the following arguments:\n",
    "* `src` : soure image to apply the threshold to\n",
    "* `maxval` : the value to assign your pixels to if they fullfill the specified condition\n",
    "* `adaptiveMethod`: the algorithm used for adaptive thresholding. `cv2.ADAPTIVE_THRESH_MEAN_C` uses the mean of the pixel neighborhood as threshold minus the parameter C, `cv2.ADAPTIVE_THRESH_GAUSSIAN_C` uses a weighted sum of the neighborhood minus the parameer C.\n",
    "* `thresholdType` : the thresholding type used, must be either `THRESH_BINARY` or `THRESH_BINARY_INV`, see above\n",
    "* `blockSize` : the size of the pixel neighborhood used to calculate the threshold, must be a positive odd integer\n",
    "* `C` : a constant subtracted from the mean or weithted mean of the neighborhood to find the threshold. Is mostly positive, but can also be 0 or negative\n",
    "\n",
    "`cv2.adaptiveThreshold` only returns the thresholded image."
   ]
  },
  {
   "cell_type": "code",
   "execution_count": null,
   "metadata": {},
   "outputs": [],
   "source": [
    "myImg_adaptiveThreshold = cv2.adaptiveThreshold(src=myImg, maxval=255, adaptiveMethod=cv2.ADAPTIVE_THRESH_MEAN, thresholdType=cv2.THRESH_BINARY, blockSize=15, C=2)"
   ]
  },
  {
   "cell_type": "markdown",
   "metadata": {},
   "source": [
    "You may have to experiment with differnet values for `blockSize` and `C` to obtain a satisfactory result."
   ]
  },
  {
   "cell_type": "markdown",
   "metadata": {},
   "source": [
    "## 5.2 Morphological operations"
   ]
  },
  {
   "cell_type": "markdown",
   "metadata": {},
   "source": [
    "We can also use read-mde modules to implement morphological operations.\n",
    "\n",
    "For all these operations, we first have to define a kernel, i.e. which neighborhood should be considered for the operations. The larger the kernel, the \"thicker\" the resulting change in shape is. For example, to consider the 8-neighborhood, we choose a 3x3-kernel, for the 24-neighborhood, we use a 5x5-kernel with all ones. For the 4-neighborhood, we also select a 3x3 kernel, but fill the corners with 0's, the central, top, bottom, left and right pixel with 1. We also need to specify the matching datatype to our input image."
   ]
  },
  {
   "cell_type": "code",
   "execution_count": null,
   "metadata": {},
   "outputs": [],
   "source": [
    "myKernel = np.ones((5, 5), np.uint8)"
   ]
  },
  {
   "cell_type": "markdown",
   "metadata": {},
   "source": [
    "To apply erosion, we can then use `cv2.erode`, passing the input image `myImg` and the kernel as arguments. Dilation with `cv2.dilate` wrks analogously."
   ]
  },
  {
   "cell_type": "code",
   "execution_count": null,
   "metadata": {},
   "outputs": [],
   "source": [
    "myImg_eroded = cv2.erode(src=myImg, kernel=myKernel)\n",
    "myImg_dilated = cv2.dilate(src=myImg, kernel=myKernel)"
   ]
  },
  {
   "cell_type": "markdown",
   "metadata": {},
   "source": [
    "For the opening and closing operations, we can now either manually stack erosion and dilation in the apprpriate order, or we can use the pre-implemented modules in the `cv2.morphologyEx` method with the following arguments:\n",
    "* `src` : source image to apply the operation to\n",
    "* `op` : type of morphological operation. Select `cv2.MORPH_OPEN` for opening or `cv2.MORPH_CLOSE` for closing. Other types are also available, please check the documentation if you are interested.\n",
    "* `kernel` : the kernel/structural element used for the operation\n",
    "* more optional arguments, check the documentation for more information"
   ]
  },
  {
   "cell_type": "code",
   "execution_count": null,
   "metadata": {},
   "outputs": [],
   "source": [
    "myImg_opened = cv2.morphologyEx(src=myImg, op=cv2.MORPH_OPEN, kernel=myKernel)\n",
    "myImg_closed = cv2.morphologyEx(src=myImg, op=cv2.MORPH_CLOSE, kernel=myKernel)"
   ]
  }
 ],
 "metadata": {
  "language_info": {
   "name": "python"
  }
 },
 "nbformat": 4,
 "nbformat_minor": 2
}
