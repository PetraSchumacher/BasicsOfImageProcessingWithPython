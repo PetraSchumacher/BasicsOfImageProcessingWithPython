{
 "cells": [
  {
   "cell_type": "markdown",
   "metadata": {},
   "source": [
    "# Basics of image processing with python"
   ]
  },
  {
   "cell_type": "markdown",
   "metadata": {},
   "source": [
    "## Lesson 5"
   ]
  },
  {
   "cell_type": "markdown",
   "metadata": {},
   "source": [
    "#### Exercise 5.1"
   ]
  },
  {
   "cell_type": "markdown",
   "metadata": {},
   "source": [
    "* Use the pumpkin seed dataset\n",
    "\n",
    "* Segment the seeds by simple global thresholding\n",
    "\n",
    "* Determine the size of seeds by the number of pixels in the segment\n",
    "\n",
    "* Optional: Can you come up with a classifier based on the amount of pixels that distinguishes between complete and chipped seeds?\n",
    "\n",
    "\n"
   ]
  },
  {
   "cell_type": "markdown",
   "metadata": {},
   "source": [
    "Hint: you may want to automatically read in the image files and process them one after the other. \n",
    "To obtain a list of all files in a directory, you can use the glob library. You first need to import it (no installation required, it comes with the Python base installation)."
   ]
  },
  {
   "cell_type": "code",
   "execution_count": null,
   "metadata": {},
   "outputs": [],
   "source": [
    "from glob import glob"
   ]
  },
  {
   "cell_type": "markdown",
   "metadata": {},
   "source": [
    "Next, you can generte a list of all file paths in a directory and name the variable e.g. `filelist`. Make sure you end the statemnt with a backslash and an asterisk!"
   ]
  },
  {
   "cell_type": "code",
   "execution_count": null,
   "metadata": {},
   "outputs": [],
   "source": [
    "filelist =  glob(\"path/to/directory/*\")"
   ]
  },
  {
   "cell_type": "markdown",
   "metadata": {},
   "source": [
    "To then access one file after the other, you can use a for loop. You could then e.g. calculate the resulting pixel size and add the elements to a list to compare them later on."
   ]
  },
  {
   "cell_type": "code",
   "execution_count": null,
   "metadata": {},
   "outputs": [],
   "source": [
    "# results = []\n",
    "for file in filelist:\n",
    "    img = cv2.imread(file, cv2.IMREAD_COLOR)\n",
    "    # Add the code you need to manipulate each individual image here, e.g.\n",
    "    # results.append(resultingPixelSize)"
   ]
  },
  {
   "cell_type": "markdown",
   "metadata": {},
   "source": [
    "#### Exercise 5.2"
   ]
  },
  {
   "cell_type": "markdown",
   "metadata": {},
   "source": [
    "* Choose a greylevel image with fine details. Apply the morphological opertions to the image. What do you think, when is (not) helpful?\n",
    "\n",
    "* Optional: try adding random noise(black and white dots) to a greylevel image. Apply the morphological operations to it. Do you see any effect?\n"
   ]
  },
  {
   "cell_type": "markdown",
   "metadata": {},
   "source": []
  }
 ],
 "metadata": {
  "language_info": {
   "name": "python"
  }
 },
 "nbformat": 4,
 "nbformat_minor": 2
}
