{
 "cells": [
  {
   "cell_type": "markdown",
   "metadata": {},
   "source": [
    "# Basics of image processing with python"
   ]
  },
  {
   "cell_type": "markdown",
   "metadata": {},
   "source": [
    "## Lesson 3"
   ]
  },
  {
   "cell_type": "markdown",
   "metadata": {},
   "source": [
    "#### Exercise 3.1"
   ]
  },
  {
   "cell_type": "markdown",
   "metadata": {},
   "source": [
    "* Read in the image \"ZebrasInFog.jpeg\" from the sample data\n",
    "\n",
    "* Manipulate the image using the HSV-Color space to more strongly highlight the zebras and reduce the influence of the fog\n",
    "\n"
   ]
  },
  {
   "cell_type": "markdown",
   "metadata": {},
   "source": [
    "#### Exercise 3.2"
   ]
  },
  {
   "cell_type": "markdown",
   "metadata": {},
   "source": [
    "* Pick an image from the „Pumpkin seed“ dataset (color images)\n",
    "\n",
    "* Select an appropriate reference region\n",
    "\n",
    "* Perform white balancing to the image\n",
    "\n",
    "* Optional: peform white balancing with the reference taken from that one image to the whole dataset. Are you satisfied with the results on all the images?\n"
   ]
  },
  {
   "cell_type": "markdown",
   "metadata": {},
   "source": []
  }
 ],
 "metadata": {
  "language_info": {
   "name": "python"
  }
 },
 "nbformat": 4,
 "nbformat_minor": 2
}
