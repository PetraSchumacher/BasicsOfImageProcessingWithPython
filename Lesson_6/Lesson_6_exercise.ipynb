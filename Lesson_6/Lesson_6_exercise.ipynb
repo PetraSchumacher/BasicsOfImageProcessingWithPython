{
 "cells": [
  {
   "cell_type": "markdown",
   "metadata": {},
   "source": [
    "# Basics of image processing with python"
   ]
  },
  {
   "cell_type": "markdown",
   "metadata": {},
   "source": [
    "## Lesson 6"
   ]
  },
  {
   "cell_type": "markdown",
   "metadata": {},
   "source": [
    "#### Exercise 6"
   ]
  },
  {
   "cell_type": "markdown",
   "metadata": {},
   "source": [
    "* Arrange the pumpkin seed (applies to color and greylevel, but don't mix them!) dataset in a new way to obtain the following file structure:\n",
    "\n"
   ]
  },
  {
   "cell_type": "code",
   "execution_count": null,
   "metadata": {
    "vscode": {
     "languageId": "plaintext"
    }
   },
   "outputs": [],
   "source": [
    "\n",
    "    PumpkinSeeds\n",
    "        |\n",
    "        |__ train\n",
    "        |       |__ complete (copy 42 images of good seeds here)\n",
    "        |       |\n",
    "        |       |__ chipped (copy 42 images of chipped seeds here)\n",
    "        |\n",
    "        |__ test\n",
    "                |__ complete (copy the remaining 12 images of good seeds here)\n",
    "                |\n",
    "                |__ chipped (copy the remaining 12 images of chipped seeds here)\n"
   ]
  },
  {
   "cell_type": "markdown",
   "metadata": {},
   "source": [
    "* Try to run the code of the neural network on your system and train it on the PumpkinSeed dataset, change the path to the PumpkinSeeds/train and PumpkinSeeds/test folders into the respective fileds. The classes will autamatically be read from the files in tehe folders, so don't go to this folder level!\n",
    "\n",
    "* Do you observe any overfitting?\n",
    "\n",
    "* Once you have been successfull on that, try changing the network architecture and observe the changes in performance, e.g.:\n",
    "    * Increase/decrease the dropout ratio\n",
    "    * Increase/decrese the amount of nodes in the fully connected layer\n",
    "    * Add additional layers\n",
    "    * Try out differnet activation functions\n",
    "    * Change the pooling size\n",
    "    * Change the filter kernel size\n",
    "    * ...\n",
    "\n",
    "* If you have found the network architecture that you find most suitable, Try to collect some statistics on the training performance by running the network several times and calculating the mean (`np.mean`) and standard deviation (`np.std`) of your results. You could e.g. store the results in an array\n",
    "\n",
    "* If you like, you can also use another dataset, e.g. this one on ripe and unripe potatos: https://www.kaggle.com/datasets/sumn2u/riped-and-unriped-tomato-dataset"
   ]
  },
  {
   "cell_type": "markdown",
   "metadata": {},
   "source": []
  }
 ],
 "metadata": {
  "language_info": {
   "name": "python"
  }
 },
 "nbformat": 4,
 "nbformat_minor": 2
}
