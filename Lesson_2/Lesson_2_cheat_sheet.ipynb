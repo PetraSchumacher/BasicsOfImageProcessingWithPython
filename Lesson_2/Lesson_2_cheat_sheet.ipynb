{
 "cells": [
  {
   "cell_type": "markdown",
   "metadata": {},
   "source": [
    "# Basics of image processing with python"
   ]
  },
  {
   "cell_type": "markdown",
   "metadata": {},
   "source": [
    "## Lesson 2"
   ]
  },
  {
   "cell_type": "markdown",
   "metadata": {},
   "source": [
    "In this lesson, we are discussing image representation, histograms, histogram manipulations and sampling. \n",
    "\n",
    "At this point, we assume you have an image called `myImg` that you have successfully read from your disk. If you don't remember how this works, have a look at the cheat sheet for lesson 0.\n"
   ]
  },
  {
   "cell_type": "markdown",
   "metadata": {},
   "source": [
    "### 2.1 Histogram creation and plotting#"
   ]
  },
  {
   "cell_type": "markdown",
   "metadata": {},
   "source": [
    "To calculate the histogram from a givn image, you can use `cv2.calcHist()`. The input parameters are:\n",
    "\n",
    "* `images` : one or several input images that you would like to calculate the histogram of, e.g. `myImg`\n",
    "* `channels`: the channels you would like to calculate the histogram of. E.g., for grayscale with only one channel, pass `[0]`\n",
    "* `mask` : Can be used to ignore certain pixels. If not applicable, write `None`\n",
    "* `histSize` : The number of bins used for the histogram\n",
    "* `histRange` : The range of values used for the histogram calculation. Normally covers the full possible value range of the image, eg. for 8 bit-images [0, 256]"
   ]
  },
  {
   "cell_type": "code",
   "execution_count": null,
   "metadata": {
    "vscode": {
     "languageId": "plaintext"
    }
   },
   "outputs": [],
   "source": [
    "histogram = cv2.calcHist(images=myImg, channels=[0], mask=None, histSize=[52], histRange=[0, 256])"
   ]
  },
  {
   "cell_type": "markdown",
   "metadata": {},
   "source": [
    "To plot the histogram, a matplotlib barchart is most appropriate, e.g. "
   ]
  },
  {
   "cell_type": "code",
   "execution_count": null,
   "metadata": {
    "vscode": {
     "languageId": "plaintext"
    }
   },
   "outputs": [],
   "source": [
    "plt.figure()\n",
    "plt.bar(np.linspace(0, 256, 52), histogram[:, 0], width = 5)\n",
    "plt.xlim([0,256])\n",
    "plt.xlabel(\"Intensity\")\n",
    "plt.ylabel(\"Amount of pixels\")\n",
    "plt.show()"
   ]
  },
  {
   "cell_type": "markdown",
   "metadata": {},
   "source": [
    "### 2.2 Histogram manipulation"
   ]
  },
  {
   "cell_type": "markdown",
   "metadata": {},
   "source": [
    "#### Gamma correction"
   ]
  },
  {
   "cell_type": "markdown",
   "metadata": {},
   "source": [
    "To apply Gamma correction to an image, you can use `skimage.exposure.adjust_gamma` and pass the image that you would like to manipulate as well as the gamma parameter as arguments:"
   ]
  },
  {
   "cell_type": "code",
   "execution_count": null,
   "metadata": {
    "vscode": {
     "languageId": "plaintext"
    }
   },
   "outputs": [],
   "source": [
    "myImg_gammacorrected = skimage.exposure.adjust_gamma(myImg, 2)"
   ]
  },
  {
   "cell_type": "markdown",
   "metadata": {},
   "source": [
    "#### Histogram equalization"
   ]
  },
  {
   "cell_type": "markdown",
   "metadata": {},
   "source": [
    "To apply histogram equalization, you can use `skimage.exposure.equalize_hist`. It only requires the image that shall be manipulated as argment, e.g. `myImg`:"
   ]
  },
  {
   "cell_type": "code",
   "execution_count": null,
   "metadata": {
    "vscode": {
     "languageId": "plaintext"
    }
   },
   "outputs": [],
   "source": [
    "myImg_histequalized = skimage.exposure.equalize_hist(myImg)"
   ]
  },
  {
   "cell_type": "markdown",
   "metadata": {},
   "source": [
    "### 2.3 Spatial sampling"
   ]
  },
  {
   "cell_type": "markdown",
   "metadata": {},
   "source": [
    "In many cases, processing the images with their full resolution takes up too much computation power and/or memory resources. If the full resolution is not required for the processing, you can scale down the image and thus compress the size. Let's assume you would like to scale the `myImage` down to 1/4 of its vertical and 1/4 of its horizontal extension, thus reducing the size to 1/16 of the original size. To do so, first determine the current dimensions of the image:"
   ]
  },
  {
   "cell_type": "code",
   "execution_count": null,
   "metadata": {
    "vscode": {
     "languageId": "plaintext"
    }
   },
   "outputs": [],
   "source": [
    "height, width, channels = myImg.shape"
   ]
  },
  {
   "cell_type": "markdown",
   "metadata": {},
   "source": [
    "In the next step, you can use `cv2.resize` to obtain the resulting image with the new dimensions. Be aware that the dimensions have to be specified as integers."
   ]
  },
  {
   "cell_type": "code",
   "execution_count": null,
   "metadata": {
    "vscode": {
     "languageId": "plaintext"
    }
   },
   "outputs": [],
   "source": [
    "myImg_scaled = cv2.resize(myImg, (int(width/4), int(height/4)))"
   ]
  }
 ],
 "metadata": {
  "language_info": {
   "name": "python"
  }
 },
 "nbformat": 4,
 "nbformat_minor": 2
}
