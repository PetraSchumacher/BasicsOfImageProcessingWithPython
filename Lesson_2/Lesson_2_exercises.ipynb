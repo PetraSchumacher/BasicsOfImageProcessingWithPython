{
 "cells": [
  {
   "cell_type": "markdown",
   "metadata": {},
   "source": [
    "# Basics of image processing with python"
   ]
  },
  {
   "cell_type": "markdown",
   "metadata": {},
   "source": [
    "## Lesson 2"
   ]
  },
  {
   "cell_type": "markdown",
   "metadata": {},
   "source": [
    "#### Exercise 2.1"
   ]
  },
  {
   "cell_type": "markdown",
   "metadata": {},
   "source": [
    "* Load the greyscale image Moon_grey\n",
    "\n",
    "* Use gamma correction with different gamma parameters. What do you think, what works well?\n",
    "\n",
    "* Optional: \n",
    "    * Try out histogram equalization on the full image\n",
    "    * Crop the image, such that the resulting image only shows the moon surface. Also try histogram equalization on this cropped image. What is your conclusion on the result?\n",
    "\n",
    "\n"
   ]
  },
  {
   "cell_type": "markdown",
   "metadata": {},
   "source": [
    "#### Exercise 2.2"
   ]
  },
  {
   "cell_type": "markdown",
   "metadata": {},
   "source": [
    "* Load the image „Butterfly“\n",
    "\n",
    "* Scale down the image step by step. How do the small structues on the wings and the hair behave?\n",
    "\n",
    "* Optional: Try the same with the greylevel image. Do you observe any difference?\n"
   ]
  },
  {
   "cell_type": "markdown",
   "metadata": {},
   "source": []
  }
 ],
 "metadata": {
  "language_info": {
   "name": "python"
  }
 },
 "nbformat": 4,
 "nbformat_minor": 2
}
